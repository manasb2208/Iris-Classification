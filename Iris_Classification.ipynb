{
  "nbformat": 4,
  "nbformat_minor": 0,
  "metadata": {
    "colab": {
      "name": "Iris Classification.ipynb",
      "provenance": [],
      "collapsed_sections": []
    },
    "kernelspec": {
      "name": "python3",
      "display_name": "Python 3"
    },
    "language_info": {
      "name": "python"
    },
    "accelerator": "GPU"
  },
  "cells": [
    {
      "cell_type": "markdown",
      "metadata": {
        "id": "_rFv52LLsI4S"
      },
      "source": [
        "Unzipping zip file."
      ]
    },
    {
      "cell_type": "code",
      "metadata": {
        "colab": {
          "base_uri": "https://localhost:8080/"
        },
        "id": "isP2vFE2Sck6",
        "outputId": "b13b2a28-5a70-4036-cd46-b799c38bf3ab"
      },
      "source": [
        "!unzip \"/content/irish.zip\""
      ],
      "execution_count": null,
      "outputs": [
        {
          "output_type": "stream",
          "text": [
            "Archive:  /content/irish.zip\n",
            "replace Iris.csv? [y]es, [n]o, [A]ll, [N]one, [r]ename: N\n"
          ],
          "name": "stdout"
        }
      ]
    },
    {
      "cell_type": "markdown",
      "metadata": {
        "id": "q9QM8nvLsVZz"
      },
      "source": [
        "Importing the libraries and packages."
      ]
    },
    {
      "cell_type": "code",
      "metadata": {
        "id": "S-p1d6ZQVZzs"
      },
      "source": [
        "import numpy as np\n",
        "import pandas as pd\n",
        "import matplotlib.pyplot as plt\n",
        "import keras\n",
        "from keras.models import Sequential\n",
        "from keras.layers import Dense, Conv2D, MaxPool2D, Flatten, Dropout, BatchNormalization\n",
        "from keras.utils import to_categorical\n",
        "import seaborn as sns\n",
        "from sklearn.preprocessing import LabelEncoder"
      ],
      "execution_count": null,
      "outputs": []
    },
    {
      "cell_type": "markdown",
      "metadata": {
        "id": "_bTMkcjlswOn"
      },
      "source": [
        "Creating the Dataframe."
      ]
    },
    {
      "cell_type": "code",
      "metadata": {
        "id": "2UY7u1RtTLkX"
      },
      "source": [
        "df = pd.read_csv('/content/Iris.csv')"
      ],
      "execution_count": null,
      "outputs": []
    },
    {
      "cell_type": "code",
      "metadata": {
        "colab": {
          "base_uri": "https://localhost:8080/",
          "height": 419
        },
        "id": "ClVzmFo5VYC1",
        "outputId": "64b56c2e-7ca8-40b0-c2d1-0933678aa099"
      },
      "source": [
        "df"
      ],
      "execution_count": null,
      "outputs": [
        {
          "output_type": "execute_result",
          "data": {
            "text/html": [
              "<div>\n",
              "<style scoped>\n",
              "    .dataframe tbody tr th:only-of-type {\n",
              "        vertical-align: middle;\n",
              "    }\n",
              "\n",
              "    .dataframe tbody tr th {\n",
              "        vertical-align: top;\n",
              "    }\n",
              "\n",
              "    .dataframe thead th {\n",
              "        text-align: right;\n",
              "    }\n",
              "</style>\n",
              "<table border=\"1\" class=\"dataframe\">\n",
              "  <thead>\n",
              "    <tr style=\"text-align: right;\">\n",
              "      <th></th>\n",
              "      <th>Id</th>\n",
              "      <th>SepalLengthCm</th>\n",
              "      <th>SepalWidthCm</th>\n",
              "      <th>PetalLengthCm</th>\n",
              "      <th>PetalWidthCm</th>\n",
              "      <th>Species</th>\n",
              "    </tr>\n",
              "  </thead>\n",
              "  <tbody>\n",
              "    <tr>\n",
              "      <th>0</th>\n",
              "      <td>1</td>\n",
              "      <td>5.1</td>\n",
              "      <td>3.5</td>\n",
              "      <td>1.4</td>\n",
              "      <td>0.2</td>\n",
              "      <td>Iris-setosa</td>\n",
              "    </tr>\n",
              "    <tr>\n",
              "      <th>1</th>\n",
              "      <td>2</td>\n",
              "      <td>4.9</td>\n",
              "      <td>3.0</td>\n",
              "      <td>1.4</td>\n",
              "      <td>0.2</td>\n",
              "      <td>Iris-setosa</td>\n",
              "    </tr>\n",
              "    <tr>\n",
              "      <th>2</th>\n",
              "      <td>3</td>\n",
              "      <td>4.7</td>\n",
              "      <td>3.2</td>\n",
              "      <td>1.3</td>\n",
              "      <td>0.2</td>\n",
              "      <td>Iris-setosa</td>\n",
              "    </tr>\n",
              "    <tr>\n",
              "      <th>3</th>\n",
              "      <td>4</td>\n",
              "      <td>4.6</td>\n",
              "      <td>3.1</td>\n",
              "      <td>1.5</td>\n",
              "      <td>0.2</td>\n",
              "      <td>Iris-setosa</td>\n",
              "    </tr>\n",
              "    <tr>\n",
              "      <th>4</th>\n",
              "      <td>5</td>\n",
              "      <td>5.0</td>\n",
              "      <td>3.6</td>\n",
              "      <td>1.4</td>\n",
              "      <td>0.2</td>\n",
              "      <td>Iris-setosa</td>\n",
              "    </tr>\n",
              "    <tr>\n",
              "      <th>...</th>\n",
              "      <td>...</td>\n",
              "      <td>...</td>\n",
              "      <td>...</td>\n",
              "      <td>...</td>\n",
              "      <td>...</td>\n",
              "      <td>...</td>\n",
              "    </tr>\n",
              "    <tr>\n",
              "      <th>145</th>\n",
              "      <td>146</td>\n",
              "      <td>6.7</td>\n",
              "      <td>3.0</td>\n",
              "      <td>5.2</td>\n",
              "      <td>2.3</td>\n",
              "      <td>Iris-virginica</td>\n",
              "    </tr>\n",
              "    <tr>\n",
              "      <th>146</th>\n",
              "      <td>147</td>\n",
              "      <td>6.3</td>\n",
              "      <td>2.5</td>\n",
              "      <td>5.0</td>\n",
              "      <td>1.9</td>\n",
              "      <td>Iris-virginica</td>\n",
              "    </tr>\n",
              "    <tr>\n",
              "      <th>147</th>\n",
              "      <td>148</td>\n",
              "      <td>6.5</td>\n",
              "      <td>3.0</td>\n",
              "      <td>5.2</td>\n",
              "      <td>2.0</td>\n",
              "      <td>Iris-virginica</td>\n",
              "    </tr>\n",
              "    <tr>\n",
              "      <th>148</th>\n",
              "      <td>149</td>\n",
              "      <td>6.2</td>\n",
              "      <td>3.4</td>\n",
              "      <td>5.4</td>\n",
              "      <td>2.3</td>\n",
              "      <td>Iris-virginica</td>\n",
              "    </tr>\n",
              "    <tr>\n",
              "      <th>149</th>\n",
              "      <td>150</td>\n",
              "      <td>5.9</td>\n",
              "      <td>3.0</td>\n",
              "      <td>5.1</td>\n",
              "      <td>1.8</td>\n",
              "      <td>Iris-virginica</td>\n",
              "    </tr>\n",
              "  </tbody>\n",
              "</table>\n",
              "<p>150 rows × 6 columns</p>\n",
              "</div>"
            ],
            "text/plain": [
              "      Id  SepalLengthCm  ...  PetalWidthCm         Species\n",
              "0      1            5.1  ...           0.2     Iris-setosa\n",
              "1      2            4.9  ...           0.2     Iris-setosa\n",
              "2      3            4.7  ...           0.2     Iris-setosa\n",
              "3      4            4.6  ...           0.2     Iris-setosa\n",
              "4      5            5.0  ...           0.2     Iris-setosa\n",
              "..   ...            ...  ...           ...             ...\n",
              "145  146            6.7  ...           2.3  Iris-virginica\n",
              "146  147            6.3  ...           1.9  Iris-virginica\n",
              "147  148            6.5  ...           2.0  Iris-virginica\n",
              "148  149            6.2  ...           2.3  Iris-virginica\n",
              "149  150            5.9  ...           1.8  Iris-virginica\n",
              "\n",
              "[150 rows x 6 columns]"
            ]
          },
          "metadata": {
            "tags": []
          },
          "execution_count": 3
        }
      ]
    },
    {
      "cell_type": "markdown",
      "metadata": {
        "id": "YHNzEAiJvfBD"
      },
      "source": [
        "Checking the presence of null values."
      ]
    },
    {
      "cell_type": "code",
      "metadata": {
        "colab": {
          "base_uri": "https://localhost:8080/"
        },
        "id": "DxUWmr6HVr7-",
        "outputId": "b438d50e-d680-442c-ff75-f0746a903e34"
      },
      "source": [
        "df.isnull().sum()"
      ],
      "execution_count": null,
      "outputs": [
        {
          "output_type": "execute_result",
          "data": {
            "text/plain": [
              "Id               0\n",
              "SepalLengthCm    0\n",
              "SepalWidthCm     0\n",
              "PetalLengthCm    0\n",
              "PetalWidthCm     0\n",
              "Species          0\n",
              "dtype: int64"
            ]
          },
          "metadata": {
            "tags": []
          },
          "execution_count": 4
        }
      ]
    },
    {
      "cell_type": "code",
      "metadata": {
        "colab": {
          "base_uri": "https://localhost:8080/"
        },
        "id": "VKP8imx-V-vC",
        "outputId": "df69ab18-270b-4c2a-afc5-d224f582cb9f"
      },
      "source": [
        "df.info()"
      ],
      "execution_count": null,
      "outputs": [
        {
          "output_type": "stream",
          "text": [
            "<class 'pandas.core.frame.DataFrame'>\n",
            "RangeIndex: 150 entries, 0 to 149\n",
            "Data columns (total 6 columns):\n",
            " #   Column         Non-Null Count  Dtype  \n",
            "---  ------         --------------  -----  \n",
            " 0   Id             150 non-null    int64  \n",
            " 1   SepalLengthCm  150 non-null    float64\n",
            " 2   SepalWidthCm   150 non-null    float64\n",
            " 3   PetalLengthCm  150 non-null    float64\n",
            " 4   PetalWidthCm   150 non-null    float64\n",
            " 5   Species        150 non-null    object \n",
            "dtypes: float64(4), int64(1), object(1)\n",
            "memory usage: 7.2+ KB\n"
          ],
          "name": "stdout"
        }
      ]
    },
    {
      "cell_type": "markdown",
      "metadata": {
        "id": "sfC_-h2hs2l4"
      },
      "source": [
        "As Species column is of object type which model can not deal with. So we have to change it. "
      ]
    },
    {
      "cell_type": "markdown",
      "metadata": {
        "id": "o4ZOepkXZLjo"
      },
      "source": [
        "Id column is not usable. Lets drop the Id column."
      ]
    },
    {
      "cell_type": "code",
      "metadata": {
        "colab": {
          "base_uri": "https://localhost:8080/",
          "height": 204
        },
        "id": "fGYmdV2hXhRR",
        "outputId": "bcfaa87f-5be8-4ca0-df2d-6d16e741b77b"
      },
      "source": [
        "df.drop([\"Id\"],axis=1,inplace=True)\n",
        "df.head()"
      ],
      "execution_count": null,
      "outputs": [
        {
          "output_type": "execute_result",
          "data": {
            "text/html": [
              "<div>\n",
              "<style scoped>\n",
              "    .dataframe tbody tr th:only-of-type {\n",
              "        vertical-align: middle;\n",
              "    }\n",
              "\n",
              "    .dataframe tbody tr th {\n",
              "        vertical-align: top;\n",
              "    }\n",
              "\n",
              "    .dataframe thead th {\n",
              "        text-align: right;\n",
              "    }\n",
              "</style>\n",
              "<table border=\"1\" class=\"dataframe\">\n",
              "  <thead>\n",
              "    <tr style=\"text-align: right;\">\n",
              "      <th></th>\n",
              "      <th>SepalLengthCm</th>\n",
              "      <th>SepalWidthCm</th>\n",
              "      <th>PetalLengthCm</th>\n",
              "      <th>PetalWidthCm</th>\n",
              "      <th>Species</th>\n",
              "    </tr>\n",
              "  </thead>\n",
              "  <tbody>\n",
              "    <tr>\n",
              "      <th>0</th>\n",
              "      <td>5.1</td>\n",
              "      <td>3.5</td>\n",
              "      <td>1.4</td>\n",
              "      <td>0.2</td>\n",
              "      <td>Iris-setosa</td>\n",
              "    </tr>\n",
              "    <tr>\n",
              "      <th>1</th>\n",
              "      <td>4.9</td>\n",
              "      <td>3.0</td>\n",
              "      <td>1.4</td>\n",
              "      <td>0.2</td>\n",
              "      <td>Iris-setosa</td>\n",
              "    </tr>\n",
              "    <tr>\n",
              "      <th>2</th>\n",
              "      <td>4.7</td>\n",
              "      <td>3.2</td>\n",
              "      <td>1.3</td>\n",
              "      <td>0.2</td>\n",
              "      <td>Iris-setosa</td>\n",
              "    </tr>\n",
              "    <tr>\n",
              "      <th>3</th>\n",
              "      <td>4.6</td>\n",
              "      <td>3.1</td>\n",
              "      <td>1.5</td>\n",
              "      <td>0.2</td>\n",
              "      <td>Iris-setosa</td>\n",
              "    </tr>\n",
              "    <tr>\n",
              "      <th>4</th>\n",
              "      <td>5.0</td>\n",
              "      <td>3.6</td>\n",
              "      <td>1.4</td>\n",
              "      <td>0.2</td>\n",
              "      <td>Iris-setosa</td>\n",
              "    </tr>\n",
              "  </tbody>\n",
              "</table>\n",
              "</div>"
            ],
            "text/plain": [
              "   SepalLengthCm  SepalWidthCm  PetalLengthCm  PetalWidthCm      Species\n",
              "0            5.1           3.5            1.4           0.2  Iris-setosa\n",
              "1            4.9           3.0            1.4           0.2  Iris-setosa\n",
              "2            4.7           3.2            1.3           0.2  Iris-setosa\n",
              "3            4.6           3.1            1.5           0.2  Iris-setosa\n",
              "4            5.0           3.6            1.4           0.2  Iris-setosa"
            ]
          },
          "metadata": {
            "tags": []
          },
          "execution_count": 8
        }
      ]
    },
    {
      "cell_type": "markdown",
      "metadata": {
        "id": "pv-RGBM7tJGI"
      },
      "source": [
        "Correlation among different features."
      ]
    },
    {
      "cell_type": "code",
      "metadata": {
        "colab": {
          "base_uri": "https://localhost:8080/",
          "height": 434
        },
        "id": "QWRRnKrhZr9l",
        "outputId": "014124e4-3a5c-435b-e14e-54bc3bd43cde"
      },
      "source": [
        "corrMatrix = df.corr()\n",
        "plt.figure(figsize=(10,7))\n",
        "sns.heatmap(corrMatrix, annot=True,cmap= 'coolwarm', linewidths=3, linecolor='black')\n",
        "plt.show()"
      ],
      "execution_count": null,
      "outputs": [
        {
          "output_type": "display_data",
          "data": {
            "image/png": "[encoded data removed]",
            "text/plain": [
              "<Figure size 720x504 with 2 Axes>"
            ]
          },
          "metadata": {
            "tags": [],
            "needs_background": "light"
          }
        }
      ]
    },
    {
      "cell_type": "markdown",
      "metadata": {
        "id": "udZku_SvcODp"
      },
      "source": [
        "There is no correlation between SepalLengthCm and SepalWidthCm.\n",
        "\n",
        "SepalLengthCm is higly correlated with PetalWidthCm and PetalLengthCm.\n",
        "\n",
        "PetalWidthCm is highly correlated with PetalLengthCm."
      ]
    },
    {
      "cell_type": "code",
      "metadata": {
        "colab": {
          "base_uri": "https://localhost:8080/",
          "height": 350
        },
        "id": "zQ9-LVWaasiF",
        "outputId": "ac815fba-1f4d-49e6-89ce-8f762b37a021"
      },
      "source": [
        "sns.countplot(df.Species)"
      ],
      "execution_count": null,
      "outputs": [
        {
          "output_type": "stream",
          "text": [
            "/usr/local/lib/python3.7/dist-packages/seaborn/_decorators.py:43: FutureWarning: Pass the following variable as a keyword arg: x. From version 0.12, the only valid positional argument will be `data`, and passing other arguments without an explicit keyword will result in an error or misinterpretation.\n",
            "  FutureWarning\n"
          ],
          "name": "stderr"
        },
        {
          "output_type": "execute_result",
          "data": {
            "text/plain": [
              "<matplotlib.axes._subplots.AxesSubplot at 0x7f944abdae10>"
            ]
          },
          "metadata": {
            "tags": []
          },
          "execution_count": 10
        },
        {
          "output_type": "display_data",
          "data": {
            "image/png": "[encoded data removed]",
            "text/plain": [
              "<Figure size 432x288 with 1 Axes>"
            ]
          },
          "metadata": {
            "tags": [],
            "needs_background": "light"
          }
        }
      ]
    },
    {
      "cell_type": "markdown",
      "metadata": {
        "id": "dej4BjVbb6Wv"
      },
      "source": [
        "All of the species are equally distributed. "
      ]
    },
    {
      "cell_type": "code",
      "metadata": {
        "colab": {
          "base_uri": "https://localhost:8080/",
          "height": 423
        },
        "id": "dhpWe8mIb3rD",
        "outputId": "04e67a96-3632-4e92-ac6c-e08a69d0571e"
      },
      "source": [
        "sns.FacetGrid(df, hue=\"Species\", size=5).map(plt.scatter, \"SepalLengthCm\", \"SepalWidthCm\").add_legend();"
      ],
      "execution_count": null,
      "outputs": [
        {
          "output_type": "stream",
          "text": [
            "/usr/local/lib/python3.7/dist-packages/seaborn/axisgrid.py:316: UserWarning: The `size` parameter has been renamed to `height`; please update your code.\n",
            "  warnings.warn(msg, UserWarning)\n"
          ],
          "name": "stderr"
        },
        {
          "output_type": "display_data",
          "data": {
            "image/png": "[encoded data removed]",
            "text/plain": [
              "<Figure size 463.25x360 with 1 Axes>"
            ]
          },
          "metadata": {
            "tags": [],
            "needs_background": "light"
          }
        }
      ]
    },
    {
      "cell_type": "markdown",
      "metadata": {
        "id": "6MbJzdcMfaas"
      },
      "source": [
        "We can distinguish Setosa easily but versicolor and Virginica is not clear."
      ]
    },
    {
      "cell_type": "code",
      "metadata": {
        "colab": {
          "base_uri": "https://localhost:8080/",
          "height": 423
        },
        "id": "jpDfBNsKhOSj",
        "outputId": "7f002d0e-b3c0-4ac8-a1b2-24a2662bea32"
      },
      "source": [
        "sns.FacetGrid(df, hue=\"Species\", size=5).map(plt.scatter, \"PetalLengthCm\", \"PetalWidthCm\").add_legend();"
      ],
      "execution_count": null,
      "outputs": [
        {
          "output_type": "stream",
          "text": [
            "/usr/local/lib/python3.7/dist-packages/seaborn/axisgrid.py:316: UserWarning: The `size` parameter has been renamed to `height`; please update your code.\n",
            "  warnings.warn(msg, UserWarning)\n"
          ],
          "name": "stderr"
        },
        {
          "output_type": "display_data",
          "data": {
            "image/png": "[encoded data removed]",
            "text/plain": [
              "<Figure size 463.25x360 with 1 Axes>"
            ]
          },
          "metadata": {
            "tags": [],
            "needs_background": "light"
          }
        }
      ]
    },
    {
      "cell_type": "markdown",
      "metadata": {
        "id": "EDw8LWlUh-tM"
      },
      "source": [
        "It seems like Petal is better than Sepal to distinguish Species."
      ]
    },
    {
      "cell_type": "markdown",
      "metadata": {
        "id": "HeaxNMVmwRPD"
      },
      "source": [
        "Other scatterplots between species and different features."
      ]
    },
    {
      "cell_type": "code",
      "metadata": {
        "colab": {
          "base_uri": "https://localhost:8080/",
          "height": 423
        },
        "id": "QkETsfG_fmSC",
        "outputId": "f348bcbc-2529-43d8-bc75-be68e8c3ab37"
      },
      "source": [
        "sns.FacetGrid(df, hue=\"Species\", size=5).map(plt.scatter, \"Species\", \"SepalLengthCm\").add_legend();"
      ],
      "execution_count": null,
      "outputs": [
        {
          "output_type": "stream",
          "text": [
            "/usr/local/lib/python3.7/dist-packages/seaborn/axisgrid.py:316: UserWarning: The `size` parameter has been renamed to `height`; please update your code.\n",
            "  warnings.warn(msg, UserWarning)\n"
          ],
          "name": "stderr"
        },
        {
          "output_type": "display_data",
          "data": {
            "image/png": "[encoded data removed]",
            "text/plain": [
              "<Figure size 463.25x360 with 1 Axes>"
            ]
          },
          "metadata": {
            "tags": [],
            "needs_background": "light"
          }
        }
      ]
    },
    {
      "cell_type": "markdown",
      "metadata": {
        "id": "NgbcwONRuJj5"
      },
      "source": [
        "Checked the "
      ]
    },
    {
      "cell_type": "code",
      "metadata": {
        "colab": {
          "base_uri": "https://localhost:8080/",
          "height": 423
        },
        "id": "IJ8hDuHVfmP0",
        "outputId": "42ca07a1-cdfb-419e-f18b-c9d7fabd9650"
      },
      "source": [
        "sns.FacetGrid(df, hue=\"Species\", size=5).map(plt.scatter, \"Species\", \"SepalWidthCm\").add_legend();"
      ],
      "execution_count": null,
      "outputs": [
        {
          "output_type": "stream",
          "text": [
            "/usr/local/lib/python3.7/dist-packages/seaborn/axisgrid.py:316: UserWarning: The `size` parameter has been renamed to `height`; please update your code.\n",
            "  warnings.warn(msg, UserWarning)\n"
          ],
          "name": "stderr"
        },
        {
          "output_type": "display_data",
          "data": {
            "image/png": "[encoded data removed]",
            "text/plain": [
              "<Figure size 463.25x360 with 1 Axes>"
            ]
          },
          "metadata": {
            "tags": [],
            "needs_background": "light"
          }
        }
      ]
    },
    {
      "cell_type": "code",
      "metadata": {
        "colab": {
          "base_uri": "https://localhost:8080/",
          "height": 423
        },
        "id": "wLSFTrdkfmMt",
        "outputId": "5d5e9809-1932-4439-9151-e75170e199f6"
      },
      "source": [
        "sns.FacetGrid(df, hue=\"Species\", size=5).map(plt.scatter, \"Species\", \"PetalLengthCm\").add_legend();"
      ],
      "execution_count": null,
      "outputs": [
        {
          "output_type": "stream",
          "text": [
            "/usr/local/lib/python3.7/dist-packages/seaborn/axisgrid.py:316: UserWarning: The `size` parameter has been renamed to `height`; please update your code.\n",
            "  warnings.warn(msg, UserWarning)\n"
          ],
          "name": "stderr"
        },
        {
          "output_type": "display_data",
          "data": {
            "image/png": "[encoded data removed]",
            "text/plain": [
              "<Figure size 463.25x360 with 1 Axes>"
            ]
          },
          "metadata": {
            "tags": [],
            "needs_background": "light"
          }
        }
      ]
    },
    {
      "cell_type": "code",
      "metadata": {
        "colab": {
          "base_uri": "https://localhost:8080/",
          "height": 423
        },
        "id": "EwDRK3_EfmIq",
        "outputId": "37277a9f-4f44-42b7-d6a2-515dbb3b4a14"
      },
      "source": [
        "sns.FacetGrid(df, hue=\"Species\", size=5).map(plt.scatter, \"Species\", \"PetalWidthCm\").add_legend();"
      ],
      "execution_count": null,
      "outputs": [
        {
          "output_type": "stream",
          "text": [
            "/usr/local/lib/python3.7/dist-packages/seaborn/axisgrid.py:316: UserWarning: The `size` parameter has been renamed to `height`; please update your code.\n",
            "  warnings.warn(msg, UserWarning)\n"
          ],
          "name": "stderr"
        },
        {
          "output_type": "display_data",
          "data": {
            "image/png": "[encoded data removed]",
            "text/plain": [
              "<Figure size 463.25x360 with 1 Axes>"
            ]
          },
          "metadata": {
            "tags": [],
            "needs_background": "light"
          }
        }
      ]
    },
    {
      "cell_type": "markdown",
      "metadata": {
        "id": "dyBAuUsSw02F"
      },
      "source": [
        "Violin Plots."
      ]
    },
    {
      "cell_type": "code",
      "metadata": {
        "colab": {
          "base_uri": "https://localhost:8080/",
          "height": 1000
        },
        "id": "cfqJw9uofmGA",
        "outputId": "48494e47-80eb-45f0-8a89-b72fef1bca93"
      },
      "source": [
        "violincols=[\"SepalLengthCm\",\"SepalWidthCm\",\"PetalLengthCm\",\"PetalWidthCm\"]\n",
        "for i in violincols:\n",
        "    sns.factorplot(x=\"Species\",y=i,data=df,kind=\"violin\");"
      ],
      "execution_count": null,
      "outputs": [
        {
          "output_type": "stream",
          "text": [
            "/usr/local/lib/python3.7/dist-packages/seaborn/categorical.py:3714: UserWarning: The `factorplot` function has been renamed to `catplot`. The original name will be removed in a future release. Please update your code. Note that the default `kind` in `factorplot` (`'point'`) has changed `'strip'` in `catplot`.\n",
            "  warnings.warn(msg)\n",
            "/usr/local/lib/python3.7/dist-packages/seaborn/categorical.py:3714: UserWarning: The `factorplot` function has been renamed to `catplot`. The original name will be removed in a future release. Please update your code. Note that the default `kind` in `factorplot` (`'point'`) has changed `'strip'` in `catplot`.\n",
            "  warnings.warn(msg)\n",
            "/usr/local/lib/python3.7/dist-packages/seaborn/categorical.py:3714: UserWarning: The `factorplot` function has been renamed to `catplot`. The original name will be removed in a future release. Please update your code. Note that the default `kind` in `factorplot` (`'point'`) has changed `'strip'` in `catplot`.\n",
            "  warnings.warn(msg)\n",
            "/usr/local/lib/python3.7/dist-packages/seaborn/categorical.py:3714: UserWarning: The `factorplot` function has been renamed to `catplot`. The original name will be removed in a future release. Please update your code. Note that the default `kind` in `factorplot` (`'point'`) has changed `'strip'` in `catplot`.\n",
            "  warnings.warn(msg)\n"
          ],
          "name": "stderr"
        },
        {
          "output_type": "display_data",
          "data": {
            "image/png": "[encoded data removed]",
            "text/plain": [
              "<Figure size 360x360 with 1 Axes>"
            ]
          },
          "metadata": {
            "tags": [],
            "needs_background": "light"
          }
        },
        {
          "output_type": "display_data",
          "data": {
            "image/png": "[encoded data removed]",
            "text/plain": [
              "<Figure size 360x360 with 1 Axes>"
            ]
          },
          "metadata": {
            "tags": [],
            "needs_background": "light"
          }
        },
        {
          "output_type": "display_data",
          "data": {
            "image/png": "[encoded data removed]",
            "text/plain": [
              "<Figure size 360x360 with 1 Axes>"
            ]
          },
          "metadata": {
            "tags": [],
            "needs_background": "light"
          }
        },
        {
          "output_type": "display_data",
          "data": {
            "image/png": "[encoded data removed]",
            "text/plain": [
              "<Figure size 360x360 with 1 Axes>"
            ]
          },
          "metadata": {
            "tags": [],
            "needs_background": "light"
          }
        }
      ]
    },
    {
      "cell_type": "markdown",
      "metadata": {
        "id": "7ie-9_ZtxKeE"
      },
      "source": [
        "Label encoding is being done on Species as this column values are object type which the model can not deal."
      ]
    },
    {
      "cell_type": "code",
      "metadata": {
        "id": "LziQHgNmuMsK"
      },
      "source": [
        "species_encoder=LabelEncoder()\n",
        "df['Species']= species_encoder.fit_transform(df['Species'])"
      ],
      "execution_count": null,
      "outputs": []
    },
    {
      "cell_type": "markdown",
      "metadata": {
        "id": "rDwRP0tSxqi4"
      },
      "source": [
        "Spliting the dataset"
      ]
    },
    {
      "cell_type": "code",
      "metadata": {
        "id": "e8eXzxbLumfy"
      },
      "source": [
        "y=df.Species\n",
        "X=df.drop([\"Species\"],axis=1)\n",
        "\n",
        "# normalization\n",
        "X=(X-np.min(X))/(np.max(X)-np.min(X))"
      ],
      "execution_count": null,
      "outputs": []
    },
    {
      "cell_type": "code",
      "metadata": {
        "id": "ts1HW6zws3zA"
      },
      "source": [
        "Y = to_categorical(y)"
      ],
      "execution_count": null,
      "outputs": []
    },
    {
      "cell_type": "code",
      "metadata": {
        "id": "7jCDGca6jVqU"
      },
      "source": [
        "from sklearn.model_selection import train_test_split\n",
        "X_train,X_test,y_train,y_test=train_test_split(X,Y,test_size=0.2,random_state=10)"
      ],
      "execution_count": null,
      "outputs": []
    },
    {
      "cell_type": "code",
      "metadata": {
        "colab": {
          "base_uri": "https://localhost:8080/"
        },
        "id": "6tcn0iGKm5PG",
        "outputId": "f15dd0cd-c9ff-4a78-cd37-7dd5ba8f6f7f"
      },
      "source": [
        "X_train.shape"
      ],
      "execution_count": null,
      "outputs": [
        {
          "output_type": "execute_result",
          "data": {
            "text/plain": [
              "(120, 4)"
            ]
          },
          "metadata": {
            "tags": []
          },
          "execution_count": 23
        }
      ]
    },
    {
      "cell_type": "code",
      "metadata": {
        "id": "THuCWRdWoM7V"
      },
      "source": [
        "import tensorflow\n",
        "from tensorflow.keras.optimizers import Adam"
      ],
      "execution_count": null,
      "outputs": []
    },
    {
      "cell_type": "markdown",
      "metadata": {
        "id": "Aopo8ul7w-vl"
      },
      "source": [
        "Creating NN Model."
      ]
    },
    {
      "cell_type": "code",
      "metadata": {
        "colab": {
          "base_uri": "https://localhost:8080/"
        },
        "id": "tOW5lCPWj23q",
        "outputId": "ef18d94a-af6a-4775-c66f-42e9a5775e21"
      },
      "source": [
        "model = Sequential()\n",
        "model.add(Dense(5, activation='relu', input_shape = (4,)))\n",
        "model.add(BatchNormalization())\n",
        "model.add(Dropout(0.2))\n",
        "\n",
        "model.add(Dense(4, activation='relu'))\n",
        "model.add(BatchNormalization())\n",
        "\n",
        "model.add(Dense(3, activation='softmax'))\n",
        "\n",
        "model.compile(optimizer= 'Adam', loss = 'categorical_crossentropy',metrics = ['accuracy'])\n",
        "model.summary()"
      ],
      "execution_count": null,
      "outputs": [
        {
          "output_type": "stream",
          "text": [
            "Model: \"sequential_2\"\n",
            "_________________________________________________________________\n",
            "Layer (type)                 Output Shape              Param #   \n",
            "=================================================================\n",
            "dense_6 (Dense)              (None, 5)                 25        \n",
            "_________________________________________________________________\n",
            "batch_normalization_4 (Batch (None, 5)                 20        \n",
            "_________________________________________________________________\n",
            "dropout_2 (Dropout)          (None, 5)                 0         \n",
            "_________________________________________________________________\n",
            "dense_7 (Dense)              (None, 4)                 24        \n",
            "_________________________________________________________________\n",
            "batch_normalization_5 (Batch (None, 4)                 16        \n",
            "_________________________________________________________________\n",
            "dense_8 (Dense)              (None, 3)                 15        \n",
            "=================================================================\n",
            "Total params: 100\n",
            "Trainable params: 82\n",
            "Non-trainable params: 18\n",
            "_________________________________________________________________\n"
          ],
          "name": "stdout"
        }
      ]
    },
    {
      "cell_type": "code",
      "metadata": {
        "colab": {
          "base_uri": "https://localhost:8080/"
        },
        "id": "Atf61J62l5Ys",
        "outputId": "4f7a746b-e607-4dde-aa1a-a355b768405d"
      },
      "source": [
        "history = model.fit(X_train, y_train,batch_size=4, steps_per_epoch=len(X_train) // 4, epochs=80,\n",
        "                    validation_data=(X_test, y_test),\n",
        "                    validation_steps=len(X_test) //4)\n"
      ],
      "execution_count": null,
      "outputs": [
        {
          "output_type": "stream",
          "text": [
            "Epoch 1/80\n",
            "30/30 [==============================] - 1s 12ms/step - loss: 1.2122 - accuracy: 0.3925 - val_loss: 1.1113 - val_accuracy: 0.2143\n",
            "Epoch 2/80\n",
            "30/30 [==============================] - 0s 5ms/step - loss: 1.0916 - accuracy: 0.4169 - val_loss: 1.1138 - val_accuracy: 0.3929\n",
            "Epoch 3/80\n",
            "30/30 [==============================] - 0s 5ms/step - loss: 0.9394 - accuracy: 0.5588 - val_loss: 1.1101 - val_accuracy: 0.5714\n",
            "Epoch 4/80\n",
            "30/30 [==============================] - 0s 5ms/step - loss: 1.0517 - accuracy: 0.3909 - val_loss: 1.0953 - val_accuracy: 0.5714\n",
            "Epoch 5/80\n",
            "30/30 [==============================] - 0s 5ms/step - loss: 0.9638 - accuracy: 0.4929 - val_loss: 1.0738 - val_accuracy: 0.5714\n",
            "Epoch 6/80\n",
            "30/30 [==============================] - 0s 5ms/step - loss: 0.8900 - accuracy: 0.6035 - val_loss: 1.0354 - val_accuracy: 0.5714\n",
            "Epoch 7/80\n",
            "30/30 [==============================] - 0s 5ms/step - loss: 0.8680 - accuracy: 0.6057 - val_loss: 0.9946 - val_accuracy: 0.5714\n",
            "Epoch 8/80\n",
            "30/30 [==============================] - 0s 5ms/step - loss: 0.7909 - accuracy: 0.6484 - val_loss: 0.9624 - val_accuracy: 0.5714\n",
            "Epoch 9/80\n",
            "30/30 [==============================] - 0s 5ms/step - loss: 0.8375 - accuracy: 0.6233 - val_loss: 0.9134 - val_accuracy: 0.5714\n",
            "Epoch 10/80\n",
            "30/30 [==============================] - 0s 6ms/step - loss: 0.8919 - accuracy: 0.5791 - val_loss: 0.8518 - val_accuracy: 0.5714\n",
            "Epoch 11/80\n",
            "30/30 [==============================] - 0s 5ms/step - loss: 0.7302 - accuracy: 0.6878 - val_loss: 0.8048 - val_accuracy: 0.5714\n",
            "Epoch 12/80\n",
            "30/30 [==============================] - 0s 5ms/step - loss: 0.7299 - accuracy: 0.6615 - val_loss: 0.7575 - val_accuracy: 0.5714\n",
            "Epoch 13/80\n",
            "30/30 [==============================] - 0s 5ms/step - loss: 0.7400 - accuracy: 0.6259 - val_loss: 0.7184 - val_accuracy: 0.5714\n",
            "Epoch 14/80\n",
            "30/30 [==============================] - 0s 5ms/step - loss: 0.8272 - accuracy: 0.6181 - val_loss: 0.6814 - val_accuracy: 0.5714\n",
            "Epoch 15/80\n",
            "30/30 [==============================] - 0s 5ms/step - loss: 0.7884 - accuracy: 0.6071 - val_loss: 0.6465 - val_accuracy: 0.5714\n",
            "Epoch 16/80\n",
            "30/30 [==============================] - 0s 5ms/step - loss: 0.7110 - accuracy: 0.6089 - val_loss: 0.6142 - val_accuracy: 0.6071\n",
            "Epoch 17/80\n",
            "30/30 [==============================] - 0s 7ms/step - loss: 0.6862 - accuracy: 0.6764 - val_loss: 0.5799 - val_accuracy: 0.6429\n",
            "Epoch 18/80\n",
            "30/30 [==============================] - 0s 5ms/step - loss: 0.7402 - accuracy: 0.6588 - val_loss: 0.5738 - val_accuracy: 0.6071\n",
            "Epoch 19/80\n",
            "30/30 [==============================] - 0s 5ms/step - loss: 0.6827 - accuracy: 0.7037 - val_loss: 0.5637 - val_accuracy: 0.5714\n",
            "Epoch 20/80\n",
            "30/30 [==============================] - 0s 5ms/step - loss: 0.7229 - accuracy: 0.7281 - val_loss: 0.5205 - val_accuracy: 0.7143\n",
            "Epoch 21/80\n",
            "30/30 [==============================] - 0s 5ms/step - loss: 0.6326 - accuracy: 0.7526 - val_loss: 0.4932 - val_accuracy: 0.8214\n",
            "Epoch 22/80\n",
            "30/30 [==============================] - 0s 5ms/step - loss: 0.7947 - accuracy: 0.6421 - val_loss: 0.4829 - val_accuracy: 0.8214\n",
            "Epoch 23/80\n",
            "30/30 [==============================] - 0s 6ms/step - loss: 0.6121 - accuracy: 0.7538 - val_loss: 0.4641 - val_accuracy: 0.8214\n",
            "Epoch 24/80\n",
            "30/30 [==============================] - 0s 5ms/step - loss: 0.6543 - accuracy: 0.7507 - val_loss: 0.4569 - val_accuracy: 0.8571\n",
            "Epoch 25/80\n",
            "30/30 [==============================] - 0s 5ms/step - loss: 0.6859 - accuracy: 0.7071 - val_loss: 0.4639 - val_accuracy: 0.7857\n",
            "Epoch 26/80\n",
            "30/30 [==============================] - 0s 5ms/step - loss: 0.7762 - accuracy: 0.6584 - val_loss: 0.4571 - val_accuracy: 0.8214\n",
            "Epoch 27/80\n",
            "30/30 [==============================] - 0s 5ms/step - loss: 0.6545 - accuracy: 0.7291 - val_loss: 0.4572 - val_accuracy: 0.7500\n",
            "Epoch 28/80\n",
            "30/30 [==============================] - 0s 5ms/step - loss: 0.6289 - accuracy: 0.6897 - val_loss: 0.4418 - val_accuracy: 0.8214\n",
            "Epoch 29/80\n",
            "30/30 [==============================] - 0s 5ms/step - loss: 0.6437 - accuracy: 0.6688 - val_loss: 0.4309 - val_accuracy: 0.8929\n",
            "Epoch 30/80\n",
            "30/30 [==============================] - 0s 6ms/step - loss: 0.6111 - accuracy: 0.7444 - val_loss: 0.4241 - val_accuracy: 0.8929\n",
            "Epoch 31/80\n",
            "30/30 [==============================] - 0s 6ms/step - loss: 0.7329 - accuracy: 0.7233 - val_loss: 0.4113 - val_accuracy: 0.8571\n",
            "Epoch 32/80\n",
            "30/30 [==============================] - 0s 5ms/step - loss: 0.6258 - accuracy: 0.7257 - val_loss: 0.3999 - val_accuracy: 0.8929\n",
            "Epoch 33/80\n",
            "30/30 [==============================] - 0s 5ms/step - loss: 0.5948 - accuracy: 0.7615 - val_loss: 0.3780 - val_accuracy: 0.9286\n",
            "Epoch 34/80\n",
            "30/30 [==============================] - 0s 5ms/step - loss: 0.5471 - accuracy: 0.7149 - val_loss: 0.3629 - val_accuracy: 0.9286\n",
            "Epoch 35/80\n",
            "30/30 [==============================] - 0s 5ms/step - loss: 0.5734 - accuracy: 0.8009 - val_loss: 0.3606 - val_accuracy: 0.8929\n",
            "Epoch 36/80\n",
            "30/30 [==============================] - 0s 5ms/step - loss: 0.8642 - accuracy: 0.7151 - val_loss: 0.3613 - val_accuracy: 0.8929\n",
            "Epoch 37/80\n",
            "30/30 [==============================] - 0s 5ms/step - loss: 0.6112 - accuracy: 0.6995 - val_loss: 0.3477 - val_accuracy: 0.9286\n",
            "Epoch 38/80\n",
            "30/30 [==============================] - 0s 5ms/step - loss: 0.5823 - accuracy: 0.6904 - val_loss: 0.3444 - val_accuracy: 0.9286\n",
            "Epoch 39/80\n",
            "30/30 [==============================] - 0s 5ms/step - loss: 0.6105 - accuracy: 0.7538 - val_loss: 0.3152 - val_accuracy: 0.9286\n",
            "Epoch 40/80\n",
            "30/30 [==============================] - 0s 5ms/step - loss: 0.5316 - accuracy: 0.7928 - val_loss: 0.2966 - val_accuracy: 0.8929\n",
            "Epoch 41/80\n",
            "30/30 [==============================] - 0s 5ms/step - loss: 0.7441 - accuracy: 0.7690 - val_loss: 0.2874 - val_accuracy: 0.8929\n",
            "Epoch 42/80\n",
            "30/30 [==============================] - 0s 6ms/step - loss: 0.4791 - accuracy: 0.8273 - val_loss: 0.2781 - val_accuracy: 0.8929\n",
            "Epoch 43/80\n",
            "30/30 [==============================] - 0s 5ms/step - loss: 0.5829 - accuracy: 0.7578 - val_loss: 0.2746 - val_accuracy: 0.8929\n",
            "Epoch 44/80\n",
            "30/30 [==============================] - 0s 5ms/step - loss: 0.4832 - accuracy: 0.8435 - val_loss: 0.2681 - val_accuracy: 0.8929\n",
            "Epoch 45/80\n",
            "30/30 [==============================] - 0s 5ms/step - loss: 0.5251 - accuracy: 0.7991 - val_loss: 0.2700 - val_accuracy: 0.8929\n",
            "Epoch 46/80\n",
            "30/30 [==============================] - 0s 5ms/step - loss: 0.4546 - accuracy: 0.7877 - val_loss: 0.2607 - val_accuracy: 0.8929\n",
            "Epoch 47/80\n",
            "30/30 [==============================] - 0s 5ms/step - loss: 0.4693 - accuracy: 0.8467 - val_loss: 0.2573 - val_accuracy: 0.8929\n",
            "Epoch 48/80\n",
            "30/30 [==============================] - 0s 5ms/step - loss: 0.4843 - accuracy: 0.8012 - val_loss: 0.2514 - val_accuracy: 0.8929\n",
            "Epoch 49/80\n",
            "30/30 [==============================] - 0s 5ms/step - loss: 0.3882 - accuracy: 0.8925 - val_loss: 0.2481 - val_accuracy: 0.9286\n",
            "Epoch 50/80\n",
            "30/30 [==============================] - 0s 5ms/step - loss: 0.6539 - accuracy: 0.7738 - val_loss: 0.2433 - val_accuracy: 0.9286\n",
            "Epoch 51/80\n",
            "30/30 [==============================] - 0s 5ms/step - loss: 0.4946 - accuracy: 0.8018 - val_loss: 0.2406 - val_accuracy: 0.9286\n",
            "Epoch 52/80\n",
            "30/30 [==============================] - 0s 5ms/step - loss: 0.6220 - accuracy: 0.7719 - val_loss: 0.2423 - val_accuracy: 0.9286\n",
            "Epoch 53/80\n",
            "30/30 [==============================] - 0s 5ms/step - loss: 0.4120 - accuracy: 0.8034 - val_loss: 0.2312 - val_accuracy: 0.9286\n",
            "Epoch 54/80\n",
            "30/30 [==============================] - 0s 6ms/step - loss: 0.4890 - accuracy: 0.7849 - val_loss: 0.2299 - val_accuracy: 0.9286\n",
            "Epoch 55/80\n",
            "30/30 [==============================] - 0s 5ms/step - loss: 0.4791 - accuracy: 0.7699 - val_loss: 0.2284 - val_accuracy: 0.9286\n",
            "Epoch 56/80\n",
            "30/30 [==============================] - 0s 5ms/step - loss: 0.6050 - accuracy: 0.8310 - val_loss: 0.2239 - val_accuracy: 0.9286\n",
            "Epoch 57/80\n",
            "30/30 [==============================] - 0s 5ms/step - loss: 0.5387 - accuracy: 0.8184 - val_loss: 0.2316 - val_accuracy: 0.9286\n",
            "Epoch 58/80\n",
            "30/30 [==============================] - 0s 5ms/step - loss: 0.3890 - accuracy: 0.8816 - val_loss: 0.2353 - val_accuracy: 0.9286\n",
            "Epoch 59/80\n",
            "30/30 [==============================] - 0s 5ms/step - loss: 0.5783 - accuracy: 0.7581 - val_loss: 0.2274 - val_accuracy: 0.9286\n",
            "Epoch 60/80\n",
            "30/30 [==============================] - 0s 6ms/step - loss: 0.4699 - accuracy: 0.7920 - val_loss: 0.2259 - val_accuracy: 0.9286\n",
            "Epoch 61/80\n",
            "30/30 [==============================] - 0s 5ms/step - loss: 0.5581 - accuracy: 0.7423 - val_loss: 0.2182 - val_accuracy: 0.9286\n",
            "Epoch 62/80\n",
            "30/30 [==============================] - 0s 5ms/step - loss: 0.3844 - accuracy: 0.8792 - val_loss: 0.2189 - val_accuracy: 0.8929\n",
            "Epoch 63/80\n",
            "30/30 [==============================] - 0s 5ms/step - loss: 0.5331 - accuracy: 0.8105 - val_loss: 0.2154 - val_accuracy: 0.9286\n",
            "Epoch 64/80\n",
            "30/30 [==============================] - 0s 5ms/step - loss: 0.4562 - accuracy: 0.8057 - val_loss: 0.2228 - val_accuracy: 0.9286\n",
            "Epoch 65/80\n",
            "30/30 [==============================] - 0s 5ms/step - loss: 0.4488 - accuracy: 0.8169 - val_loss: 0.2174 - val_accuracy: 0.9286\n",
            "Epoch 66/80\n",
            "30/30 [==============================] - 0s 5ms/step - loss: 0.5570 - accuracy: 0.7642 - val_loss: 0.2097 - val_accuracy: 0.9286\n",
            "Epoch 67/80\n",
            "30/30 [==============================] - 0s 6ms/step - loss: 0.3974 - accuracy: 0.8785 - val_loss: 0.2118 - val_accuracy: 0.9286\n",
            "Epoch 68/80\n",
            "30/30 [==============================] - 0s 5ms/step - loss: 0.5169 - accuracy: 0.8272 - val_loss: 0.2048 - val_accuracy: 0.9286\n",
            "Epoch 69/80\n",
            "30/30 [==============================] - 0s 5ms/step - loss: 0.5364 - accuracy: 0.8087 - val_loss: 0.2057 - val_accuracy: 0.9286\n",
            "Epoch 70/80\n",
            "30/30 [==============================] - 0s 5ms/step - loss: 0.3902 - accuracy: 0.8496 - val_loss: 0.2010 - val_accuracy: 0.8929\n",
            "Epoch 71/80\n",
            "30/30 [==============================] - 0s 5ms/step - loss: 0.4925 - accuracy: 0.8297 - val_loss: 0.2109 - val_accuracy: 0.9286\n",
            "Epoch 72/80\n",
            "30/30 [==============================] - 0s 5ms/step - loss: 0.4934 - accuracy: 0.8308 - val_loss: 0.2333 - val_accuracy: 0.9286\n",
            "Epoch 73/80\n",
            "30/30 [==============================] - 0s 6ms/step - loss: 0.5359 - accuracy: 0.7878 - val_loss: 0.2206 - val_accuracy: 0.9286\n",
            "Epoch 74/80\n",
            "30/30 [==============================] - 0s 5ms/step - loss: 0.4254 - accuracy: 0.8334 - val_loss: 0.2084 - val_accuracy: 0.9286\n",
            "Epoch 75/80\n",
            "30/30 [==============================] - 0s 5ms/step - loss: 0.3824 - accuracy: 0.8684 - val_loss: 0.2052 - val_accuracy: 0.9286\n",
            "Epoch 76/80\n",
            "30/30 [==============================] - 0s 5ms/step - loss: 0.4331 - accuracy: 0.8520 - val_loss: 0.2064 - val_accuracy: 0.9286\n",
            "Epoch 77/80\n",
            "30/30 [==============================] - 0s 5ms/step - loss: 0.3119 - accuracy: 0.9361 - val_loss: 0.2056 - val_accuracy: 0.9286\n",
            "Epoch 78/80\n",
            "30/30 [==============================] - 0s 5ms/step - loss: 0.4001 - accuracy: 0.8483 - val_loss: 0.2032 - val_accuracy: 0.9286\n",
            "Epoch 79/80\n",
            "30/30 [==============================] - 0s 6ms/step - loss: 0.3160 - accuracy: 0.8942 - val_loss: 0.2059 - val_accuracy: 0.9286\n",
            "Epoch 80/80\n",
            "30/30 [==============================] - 0s 5ms/step - loss: 0.3181 - accuracy: 0.9165 - val_loss: 0.2132 - val_accuracy: 0.9286\n"
          ],
          "name": "stdout"
        }
      ]
    },
    {
      "cell_type": "markdown",
      "metadata": {
        "id": "Nc-Sp89Zx56H"
      },
      "source": [
        "Validation accuracy of the NN model is 92%"
      ]
    },
    {
      "cell_type": "markdown",
      "metadata": {
        "id": "WMHLBd3GyEWs"
      },
      "source": [
        "Now using the data in a Random Forest clssifier model."
      ]
    },
    {
      "cell_type": "code",
      "metadata": {
        "colab": {
          "base_uri": "https://localhost:8080/"
        },
        "id": "FCumjbFy1-nh",
        "outputId": "e6e1b79d-a09d-4cfd-dc9f-e7b98a01d242"
      },
      "source": [
        "from sklearn.ensemble import RandomForestClassifier\n",
        "rfs= RandomForestClassifier().fit(X_train,y_train)\n",
        "print(\"Random Forest Train accuracy :\",rfs.score(X_train,y_train))\n",
        "print(\"Random Forest Test accuracy :\",rfs.score(X_test,y_test))"
      ],
      "execution_count": null,
      "outputs": [
        {
          "output_type": "stream",
          "text": [
            "Random Forest Train accuracy : 1.0\n",
            "Random Forest Test accuracy : 0.9666666666666667\n"
          ],
          "name": "stdout"
        }
      ]
    },
    {
      "cell_type": "markdown",
      "metadata": {
        "id": "80O_TmT9yQuN"
      },
      "source": [
        "RF clssifier is providing 96% accuracy. "
      ]
    }
  ]
}